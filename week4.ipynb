{
 "cells": [
  {
   "cell_type": "markdown",
   "metadata": {},
   "source": [
    "# Capstone Project - The Battle of the Neighbourhoods"
   ]
  },
  {
   "cell_type": "markdown",
   "metadata": {},
   "source": [
    "# The Brazillian Restaurant in New York"
   ]
  },
  {
   "cell_type": "markdown",
   "metadata": {},
   "source": [
    "# Data sources and usage:\n",
    "## The predominant data source comes from the NYC Open Data page and can be found below:\n",
    "\n",
    "### ttps://data.cityofnewyork.us/Public-Safety/NYPD-Motor-Vehicle-Collisions/h9gi-nx95 - Vehicle collisions range from 2012 to 2019 and list the location coordinates (longitude and latitude) as well as the contributing factors from both vehicles in the collision.\n",
    "\n",
    "### 1) The data will be cleaned, analysed and presented as a chart which shows the borough with the least amount of collisions.\n",
    "\n",
    "### 2) The contributing factors will be presented as a word cloud to have an overview of the factors responsible for the collisions.\n",
    "\n",
    "### 3) Time permitting, an optional analysis would be conducted on the biggest contributing factors to get an in-depth look in the fabric of societal, social and economic issues which were responsible for the contributing factors\n",
    "\n",
    "### The second source of data is also freely available from NYU. It gives the names of neighborhoods in New York City and can be found below:\n",
    "\n",
    "https://geo.nyu.edu/catalog/nyu_2451_34572\n",
    "\n",
    "### Foursquare location data about restaurants in neighborhoods will be essential to determine which cuisines already exist in different boroughs. This will be used by the stakeholder to make new recipes."
   ]
  },
  {
   "cell_type": "code",
   "execution_count": null,
   "metadata": {},
   "outputs": [],
   "source": []
  }
 ],
 "metadata": {
  "kernelspec": {
   "display_name": "Python",
   "language": "python",
   "name": "conda-env-python-py"
  },
  "language_info": {
   "codemirror_mode": {
    "name": "ipython",
    "version": 3
   },
   "file_extension": ".py",
   "mimetype": "text/x-python",
   "name": "python",
   "nbconvert_exporter": "python",
   "pygments_lexer": "ipython3",
   "version": "3.6.7"
  }
 },
 "nbformat": 4,
 "nbformat_minor": 4
}
